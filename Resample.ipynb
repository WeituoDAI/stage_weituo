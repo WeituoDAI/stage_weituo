{
 "cells": [
  {
   "cell_type": "code",
   "execution_count": 1,
   "id": "e01dbb28",
   "metadata": {},
   "outputs": [
    {
     "data": {
      "text/html": [
       "<div>\n",
       "<style scoped>\n",
       "    .dataframe tbody tr th:only-of-type {\n",
       "        vertical-align: middle;\n",
       "    }\n",
       "\n",
       "    .dataframe tbody tr th {\n",
       "        vertical-align: top;\n",
       "    }\n",
       "\n",
       "    .dataframe thead th {\n",
       "        text-align: right;\n",
       "    }\n",
       "</style>\n",
       "<table border=\"1\" class=\"dataframe\">\n",
       "  <thead>\n",
       "    <tr style=\"text-align: right;\">\n",
       "      <th></th>\n",
       "      <th>variance of Wavelet</th>\n",
       "      <th>skewness of Wavelet</th>\n",
       "      <th>curtosis of Wavelet</th>\n",
       "      <th>entropy</th>\n",
       "      <th>class</th>\n",
       "    </tr>\n",
       "  </thead>\n",
       "  <tbody>\n",
       "    <tr>\n",
       "      <th>0</th>\n",
       "      <td>3.62160</td>\n",
       "      <td>8.6661</td>\n",
       "      <td>-2.8073</td>\n",
       "      <td>-0.44699</td>\n",
       "      <td>1.0</td>\n",
       "    </tr>\n",
       "    <tr>\n",
       "      <th>1</th>\n",
       "      <td>4.54590</td>\n",
       "      <td>8.1674</td>\n",
       "      <td>-2.4586</td>\n",
       "      <td>-1.46210</td>\n",
       "      <td>1.0</td>\n",
       "    </tr>\n",
       "    <tr>\n",
       "      <th>2</th>\n",
       "      <td>3.86600</td>\n",
       "      <td>-2.6383</td>\n",
       "      <td>1.9242</td>\n",
       "      <td>0.10645</td>\n",
       "      <td>1.0</td>\n",
       "    </tr>\n",
       "    <tr>\n",
       "      <th>3</th>\n",
       "      <td>3.45660</td>\n",
       "      <td>9.5228</td>\n",
       "      <td>-4.0112</td>\n",
       "      <td>-3.59440</td>\n",
       "      <td>1.0</td>\n",
       "    </tr>\n",
       "    <tr>\n",
       "      <th>4</th>\n",
       "      <td>0.32924</td>\n",
       "      <td>-4.4552</td>\n",
       "      <td>4.5718</td>\n",
       "      <td>-0.98880</td>\n",
       "      <td>1.0</td>\n",
       "    </tr>\n",
       "  </tbody>\n",
       "</table>\n",
       "</div>"
      ],
      "text/plain": [
       "   variance of Wavelet  skewness of Wavelet  curtosis of Wavelet  entropy  \\\n",
       "0              3.62160               8.6661              -2.8073 -0.44699   \n",
       "1              4.54590               8.1674              -2.4586 -1.46210   \n",
       "2              3.86600              -2.6383               1.9242  0.10645   \n",
       "3              3.45660               9.5228              -4.0112 -3.59440   \n",
       "4              0.32924              -4.4552               4.5718 -0.98880   \n",
       "\n",
       "   class  \n",
       "0    1.0  \n",
       "1    1.0  \n",
       "2    1.0  \n",
       "3    1.0  \n",
       "4    1.0  "
      ]
     },
     "execution_count": 1,
     "metadata": {},
     "output_type": "execute_result"
    }
   ],
   "source": [
    "import sklearn.datasets\n",
    "import matplotlib.pyplot as plt\n",
    "import numpy as np\n",
    "import pandas as pd\n",
    "\n",
    "data=pd.read_csv('banknote.csv', encoding='latin')\n",
    "data.head()"
   ]
  },
  {
   "cell_type": "markdown",
   "id": "c912fb63",
   "metadata": {},
   "source": [
    "# Bootstrap"
   ]
  },
  {
   "cell_type": "markdown",
   "id": "925d6638",
   "metadata": {},
   "source": [
    "## scipy.stats.bootstrap, for calculating a static value\n",
    "\n",
    "## https://docs.scipy.org/doc/scipy/reference/generated/scipy.stats.bootstrap.html"
   ]
  },
  {
   "cell_type": "code",
   "execution_count": 2,
   "id": "99a98f8f",
   "metadata": {},
   "outputs": [
    {
     "name": "stdout",
     "output_type": "stream",
     "text": [
      "mean: -1.1916565211370262\n"
     ]
    }
   ],
   "source": [
    "print('mean:',np.mean(data['entropy']))"
   ]
  },
  {
   "cell_type": "code",
   "execution_count": 3,
   "id": "c587183e",
   "metadata": {},
   "outputs": [
    {
     "data": {
      "text/plain": [
       "(0      -0.44699\n",
       " 1      -1.46210\n",
       " 2       0.10645\n",
       " 3      -3.59440\n",
       " 4      -0.98880\n",
       "          ...   \n",
       " 1367   -0.55949\n",
       " 1368    0.34179\n",
       " 1369   -2.77710\n",
       " 1370   -1.28230\n",
       " 1371    1.19520\n",
       " Name: entropy, Length: 1372, dtype: float64,)"
      ]
     },
     "execution_count": 3,
     "metadata": {},
     "output_type": "execute_result"
    }
   ],
   "source": [
    "a=data['entropy']\n",
    "a=(a,)  ### important, bootstrap(data,....,)  data need to be of type of tuple\n",
    "a"
   ]
  },
  {
   "cell_type": "code",
   "execution_count": 4,
   "id": "3b1b909b",
   "metadata": {},
   "outputs": [],
   "source": [
    "from scipy.stats import bootstrap"
   ]
  },
  {
   "cell_type": "code",
   "execution_count": 5,
   "id": "149f2f4a",
   "metadata": {
    "scrolled": true
   },
   "outputs": [
    {
     "name": "stdout",
     "output_type": "stream",
     "text": [
      "-1.1946459487973762\n",
      "ConfidenceInterval(low=-1.2920979236151602, high=-1.097193973979592)\n"
     ]
    }
   ],
   "source": [
    "res = bootstrap(a,  ## need to be tuple\n",
    "                np.mean,\n",
    "                n_resamples=1000, # times of resamples\n",
    "                # axis = 0,  #default\n",
    "                confidence_level=0.9,method='percentile')\n",
    "\n",
    "\n",
    "print((res.confidence_interval[0]+res.confidence_interval[1])/2)\n",
    "print(res.confidence_interval)\n"
   ]
  },
  {
   "cell_type": "markdown",
   "id": "20dfbcb2",
   "metadata": {},
   "source": [
    "## use bootstrap on a dataset\n",
    "\n",
    "## https://scikit-learn.org/stable/modules/generated/sklearn.utils.resample.html"
   ]
  },
  {
   "cell_type": "code",
   "execution_count": 6,
   "id": "a2f297cd",
   "metadata": {},
   "outputs": [
    {
     "name": "stdout",
     "output_type": "stream",
     "text": [
      "Bootstrap Sample: [9, 9, 7, 3, 9, 8, 3, 2]\n",
      "OOB Sample: [1, 4, 5, 6, 10]\n"
     ]
    }
   ],
   "source": [
    "from sklearn.utils import resample\n",
    "\n",
    "data_test=[1,2,3,4,5,6,7,8,9,10]\n",
    "boot_test = resample(data_test, replace=True, n_samples=len(data_test)//5*4, random_state=2)\n",
    "print('Bootstrap Sample: %s' % boot_test)\n",
    "# out of bag observations\n",
    "oob = [x for x in data_test if x not in boot_test]\n",
    "print('OOB Sample: %s' % oob)"
   ]
  },
  {
   "cell_type": "code",
   "execution_count": 7,
   "id": "7f54c438",
   "metadata": {},
   "outputs": [
    {
     "data": {
      "text/html": [
       "<div>\n",
       "<style scoped>\n",
       "    .dataframe tbody tr th:only-of-type {\n",
       "        vertical-align: middle;\n",
       "    }\n",
       "\n",
       "    .dataframe tbody tr th {\n",
       "        vertical-align: top;\n",
       "    }\n",
       "\n",
       "    .dataframe thead th {\n",
       "        text-align: right;\n",
       "    }\n",
       "</style>\n",
       "<table border=\"1\" class=\"dataframe\">\n",
       "  <thead>\n",
       "    <tr style=\"text-align: right;\">\n",
       "      <th></th>\n",
       "      <th>variance of Wavelet</th>\n",
       "      <th>skewness of Wavelet</th>\n",
       "      <th>curtosis of Wavelet</th>\n",
       "      <th>entropy</th>\n",
       "      <th>class</th>\n",
       "    </tr>\n",
       "  </thead>\n",
       "  <tbody>\n",
       "    <tr>\n",
       "      <th>0</th>\n",
       "      <td>3.62160</td>\n",
       "      <td>8.6661</td>\n",
       "      <td>-2.8073</td>\n",
       "      <td>-0.44699</td>\n",
       "      <td>1.0</td>\n",
       "    </tr>\n",
       "    <tr>\n",
       "      <th>1</th>\n",
       "      <td>4.54590</td>\n",
       "      <td>8.1674</td>\n",
       "      <td>-2.4586</td>\n",
       "      <td>-1.46210</td>\n",
       "      <td>1.0</td>\n",
       "    </tr>\n",
       "    <tr>\n",
       "      <th>2</th>\n",
       "      <td>3.86600</td>\n",
       "      <td>-2.6383</td>\n",
       "      <td>1.9242</td>\n",
       "      <td>0.10645</td>\n",
       "      <td>1.0</td>\n",
       "    </tr>\n",
       "    <tr>\n",
       "      <th>3</th>\n",
       "      <td>3.45660</td>\n",
       "      <td>9.5228</td>\n",
       "      <td>-4.0112</td>\n",
       "      <td>-3.59440</td>\n",
       "      <td>1.0</td>\n",
       "    </tr>\n",
       "    <tr>\n",
       "      <th>4</th>\n",
       "      <td>0.32924</td>\n",
       "      <td>-4.4552</td>\n",
       "      <td>4.5718</td>\n",
       "      <td>-0.98880</td>\n",
       "      <td>1.0</td>\n",
       "    </tr>\n",
       "  </tbody>\n",
       "</table>\n",
       "</div>"
      ],
      "text/plain": [
       "   variance of Wavelet  skewness of Wavelet  curtosis of Wavelet  entropy  \\\n",
       "0              3.62160               8.6661              -2.8073 -0.44699   \n",
       "1              4.54590               8.1674              -2.4586 -1.46210   \n",
       "2              3.86600              -2.6383               1.9242  0.10645   \n",
       "3              3.45660               9.5228              -4.0112 -3.59440   \n",
       "4              0.32924              -4.4552               4.5718 -0.98880   \n",
       "\n",
       "   class  \n",
       "0    1.0  \n",
       "1    1.0  \n",
       "2    1.0  \n",
       "3    1.0  \n",
       "4    1.0  "
      ]
     },
     "execution_count": 7,
     "metadata": {},
     "output_type": "execute_result"
    }
   ],
   "source": [
    "data.head()"
   ]
  },
  {
   "cell_type": "code",
   "execution_count": 8,
   "id": "c3ea2428",
   "metadata": {},
   "outputs": [
    {
     "data": {
      "text/html": [
       "<div>\n",
       "<style scoped>\n",
       "    .dataframe tbody tr th:only-of-type {\n",
       "        vertical-align: middle;\n",
       "    }\n",
       "\n",
       "    .dataframe tbody tr th {\n",
       "        vertical-align: top;\n",
       "    }\n",
       "\n",
       "    .dataframe thead th {\n",
       "        text-align: right;\n",
       "    }\n",
       "</style>\n",
       "<table border=\"1\" class=\"dataframe\">\n",
       "  <thead>\n",
       "    <tr style=\"text-align: right;\">\n",
       "      <th></th>\n",
       "      <th>variance of Wavelet</th>\n",
       "      <th>skewness of Wavelet</th>\n",
       "      <th>curtosis of Wavelet</th>\n",
       "      <th>entropy</th>\n",
       "      <th>class</th>\n",
       "    </tr>\n",
       "  </thead>\n",
       "  <tbody>\n",
       "    <tr>\n",
       "      <th>1192</th>\n",
       "      <td>-4.40180</td>\n",
       "      <td>-12.9371</td>\n",
       "      <td>15.65590</td>\n",
       "      <td>-1.68060</td>\n",
       "      <td>2.0</td>\n",
       "    </tr>\n",
       "    <tr>\n",
       "      <th>527</th>\n",
       "      <td>2.53280</td>\n",
       "      <td>7.5280</td>\n",
       "      <td>-0.41929</td>\n",
       "      <td>-2.64780</td>\n",
       "      <td>1.0</td>\n",
       "    </tr>\n",
       "    <tr>\n",
       "      <th>493</th>\n",
       "      <td>2.80840</td>\n",
       "      <td>11.3045</td>\n",
       "      <td>-3.33940</td>\n",
       "      <td>-4.41940</td>\n",
       "      <td>1.0</td>\n",
       "    </tr>\n",
       "    <tr>\n",
       "      <th>299</th>\n",
       "      <td>2.29280</td>\n",
       "      <td>9.0386</td>\n",
       "      <td>-3.24170</td>\n",
       "      <td>-1.29910</td>\n",
       "      <td>1.0</td>\n",
       "    </tr>\n",
       "    <tr>\n",
       "      <th>466</th>\n",
       "      <td>1.14720</td>\n",
       "      <td>3.5985</td>\n",
       "      <td>1.93870</td>\n",
       "      <td>-0.43406</td>\n",
       "      <td>1.0</td>\n",
       "    </tr>\n",
       "    <tr>\n",
       "      <th>...</th>\n",
       "      <td>...</td>\n",
       "      <td>...</td>\n",
       "      <td>...</td>\n",
       "      <td>...</td>\n",
       "      <td>...</td>\n",
       "    </tr>\n",
       "    <tr>\n",
       "      <th>647</th>\n",
       "      <td>3.77910</td>\n",
       "      <td>2.5762</td>\n",
       "      <td>1.30980</td>\n",
       "      <td>0.56550</td>\n",
       "      <td>1.0</td>\n",
       "    </tr>\n",
       "    <tr>\n",
       "      <th>1083</th>\n",
       "      <td>-0.69879</td>\n",
       "      <td>-3.3771</td>\n",
       "      <td>4.12110</td>\n",
       "      <td>1.50430</td>\n",
       "      <td>2.0</td>\n",
       "    </tr>\n",
       "    <tr>\n",
       "      <th>1278</th>\n",
       "      <td>0.53936</td>\n",
       "      <td>3.8944</td>\n",
       "      <td>-4.81660</td>\n",
       "      <td>-4.34180</td>\n",
       "      <td>2.0</td>\n",
       "    </tr>\n",
       "    <tr>\n",
       "      <th>793</th>\n",
       "      <td>-2.28600</td>\n",
       "      <td>-5.4484</td>\n",
       "      <td>5.80390</td>\n",
       "      <td>0.88231</td>\n",
       "      <td>2.0</td>\n",
       "    </tr>\n",
       "    <tr>\n",
       "      <th>1217</th>\n",
       "      <td>0.61652</td>\n",
       "      <td>3.8944</td>\n",
       "      <td>-4.72750</td>\n",
       "      <td>-4.39480</td>\n",
       "      <td>2.0</td>\n",
       "    </tr>\n",
       "  </tbody>\n",
       "</table>\n",
       "<p>1096 rows × 5 columns</p>\n",
       "</div>"
      ],
      "text/plain": [
       "      variance of Wavelet  skewness of Wavelet  curtosis of Wavelet  entropy  \\\n",
       "1192             -4.40180             -12.9371             15.65590 -1.68060   \n",
       "527               2.53280               7.5280             -0.41929 -2.64780   \n",
       "493               2.80840              11.3045             -3.33940 -4.41940   \n",
       "299               2.29280               9.0386             -3.24170 -1.29910   \n",
       "466               1.14720               3.5985              1.93870 -0.43406   \n",
       "...                   ...                  ...                  ...      ...   \n",
       "647               3.77910               2.5762              1.30980  0.56550   \n",
       "1083             -0.69879              -3.3771              4.12110  1.50430   \n",
       "1278              0.53936               3.8944             -4.81660 -4.34180   \n",
       "793              -2.28600              -5.4484              5.80390  0.88231   \n",
       "1217              0.61652               3.8944             -4.72750 -4.39480   \n",
       "\n",
       "      class  \n",
       "1192    2.0  \n",
       "527     1.0  \n",
       "493     1.0  \n",
       "299     1.0  \n",
       "466     1.0  \n",
       "...     ...  \n",
       "647     1.0  \n",
       "1083    2.0  \n",
       "1278    2.0  \n",
       "793     2.0  \n",
       "1217    2.0  \n",
       "\n",
       "[1096 rows x 5 columns]"
      ]
     },
     "execution_count": 8,
     "metadata": {},
     "output_type": "execute_result"
    }
   ],
   "source": [
    "boot = resample(data, replace=True, n_samples=len(data)//5*4, random_state=2)\n",
    "boot\n"
   ]
  },
  {
   "cell_type": "code",
   "execution_count": 10,
   "id": "48610ba1",
   "metadata": {},
   "outputs": [
    {
     "name": "stdout",
     "output_type": "stream",
     "text": [
      "1372\n",
      "1096\n",
      "778\n",
      "594\n"
     ]
    },
    {
     "data": {
      "text/html": [
       "<div>\n",
       "<style scoped>\n",
       "    .dataframe tbody tr th:only-of-type {\n",
       "        vertical-align: middle;\n",
       "    }\n",
       "\n",
       "    .dataframe tbody tr th {\n",
       "        vertical-align: top;\n",
       "    }\n",
       "\n",
       "    .dataframe thead th {\n",
       "        text-align: right;\n",
       "    }\n",
       "</style>\n",
       "<table border=\"1\" class=\"dataframe\">\n",
       "  <thead>\n",
       "    <tr style=\"text-align: right;\">\n",
       "      <th></th>\n",
       "      <th>variance of Wavelet</th>\n",
       "      <th>skewness of Wavelet</th>\n",
       "      <th>curtosis of Wavelet</th>\n",
       "      <th>entropy</th>\n",
       "      <th>class</th>\n",
       "    </tr>\n",
       "  </thead>\n",
       "  <tbody>\n",
       "    <tr>\n",
       "      <th>2</th>\n",
       "      <td>3.866000</td>\n",
       "      <td>-2.6383</td>\n",
       "      <td>1.92420</td>\n",
       "      <td>0.10645</td>\n",
       "      <td>1.0</td>\n",
       "    </tr>\n",
       "    <tr>\n",
       "      <th>3</th>\n",
       "      <td>3.456600</td>\n",
       "      <td>9.5228</td>\n",
       "      <td>-4.01120</td>\n",
       "      <td>-3.59440</td>\n",
       "      <td>1.0</td>\n",
       "    </tr>\n",
       "    <tr>\n",
       "      <th>4</th>\n",
       "      <td>0.329240</td>\n",
       "      <td>-4.4552</td>\n",
       "      <td>4.57180</td>\n",
       "      <td>-0.98880</td>\n",
       "      <td>1.0</td>\n",
       "    </tr>\n",
       "    <tr>\n",
       "      <th>6</th>\n",
       "      <td>3.591200</td>\n",
       "      <td>3.0129</td>\n",
       "      <td>0.72888</td>\n",
       "      <td>0.56421</td>\n",
       "      <td>1.0</td>\n",
       "    </tr>\n",
       "    <tr>\n",
       "      <th>7</th>\n",
       "      <td>2.092200</td>\n",
       "      <td>-6.8100</td>\n",
       "      <td>8.46360</td>\n",
       "      <td>-0.60216</td>\n",
       "      <td>1.0</td>\n",
       "    </tr>\n",
       "    <tr>\n",
       "      <th>...</th>\n",
       "      <td>...</td>\n",
       "      <td>...</td>\n",
       "      <td>...</td>\n",
       "      <td>...</td>\n",
       "      <td>...</td>\n",
       "    </tr>\n",
       "    <tr>\n",
       "      <th>1354</th>\n",
       "      <td>-3.392400</td>\n",
       "      <td>3.3564</td>\n",
       "      <td>-0.72004</td>\n",
       "      <td>-3.52330</td>\n",
       "      <td>2.0</td>\n",
       "    </tr>\n",
       "    <tr>\n",
       "      <th>1355</th>\n",
       "      <td>-6.163200</td>\n",
       "      <td>8.7096</td>\n",
       "      <td>-0.21621</td>\n",
       "      <td>-3.63450</td>\n",
       "      <td>2.0</td>\n",
       "    </tr>\n",
       "    <tr>\n",
       "      <th>1357</th>\n",
       "      <td>-2.589900</td>\n",
       "      <td>-0.3911</td>\n",
       "      <td>0.93452</td>\n",
       "      <td>0.42972</td>\n",
       "      <td>2.0</td>\n",
       "    </tr>\n",
       "    <tr>\n",
       "      <th>1359</th>\n",
       "      <td>0.066129</td>\n",
       "      <td>2.4914</td>\n",
       "      <td>-2.94010</td>\n",
       "      <td>-0.62156</td>\n",
       "      <td>2.0</td>\n",
       "    </tr>\n",
       "    <tr>\n",
       "      <th>1364</th>\n",
       "      <td>-2.839100</td>\n",
       "      <td>-6.6300</td>\n",
       "      <td>10.48490</td>\n",
       "      <td>-0.42113</td>\n",
       "      <td>2.0</td>\n",
       "    </tr>\n",
       "  </tbody>\n",
       "</table>\n",
       "<p>594 rows × 5 columns</p>\n",
       "</div>"
      ],
      "text/plain": [
       "      variance of Wavelet  skewness of Wavelet  curtosis of Wavelet  entropy  \\\n",
       "2                3.866000              -2.6383              1.92420  0.10645   \n",
       "3                3.456600               9.5228             -4.01120 -3.59440   \n",
       "4                0.329240              -4.4552              4.57180 -0.98880   \n",
       "6                3.591200               3.0129              0.72888  0.56421   \n",
       "7                2.092200              -6.8100              8.46360 -0.60216   \n",
       "...                   ...                  ...                  ...      ...   \n",
       "1354            -3.392400               3.3564             -0.72004 -3.52330   \n",
       "1355            -6.163200               8.7096             -0.21621 -3.63450   \n",
       "1357            -2.589900              -0.3911              0.93452  0.42972   \n",
       "1359             0.066129               2.4914             -2.94010 -0.62156   \n",
       "1364            -2.839100              -6.6300             10.48490 -0.42113   \n",
       "\n",
       "      class  \n",
       "2       1.0  \n",
       "3       1.0  \n",
       "4       1.0  \n",
       "6       1.0  \n",
       "7       1.0  \n",
       "...     ...  \n",
       "1354    2.0  \n",
       "1355    2.0  \n",
       "1357    2.0  \n",
       "1359    2.0  \n",
       "1364    2.0  \n",
       "\n",
       "[594 rows x 5 columns]"
      ]
     },
     "execution_count": 10,
     "metadata": {},
     "output_type": "execute_result"
    }
   ],
   "source": [
    "# out of bag observations\n",
    "oob=pd.DataFrame(columns=data.columns)\n",
    "\n",
    "\n",
    "print(len(data))\n",
    "print(len(boot))\n",
    "print(len(set(boot.index)))\n",
    "\n",
    "a=np.zeros(len(data))\n",
    "for i in list(boot.index):\n",
    "    a[i]=1\n",
    "\n",
    "for i in range(len(data)):\n",
    "    if a[i]==0:\n",
    "        oob.loc[i]=list(data.loc[i].values)\n",
    "        \n",
    "print(len(oob))\n",
    "oob"
   ]
  },
  {
   "cell_type": "markdown",
   "id": "8b4427d0",
   "metadata": {},
   "source": [
    "# use bootstrap to evaluate a model, use bootstrap to give train set , test sest"
   ]
  },
  {
   "cell_type": "code",
   "execution_count": 11,
   "id": "53bf3cec",
   "metadata": {},
   "outputs": [
    {
     "data": {
      "text/html": [
       "<div>\n",
       "<style scoped>\n",
       "    .dataframe tbody tr th:only-of-type {\n",
       "        vertical-align: middle;\n",
       "    }\n",
       "\n",
       "    .dataframe tbody tr th {\n",
       "        vertical-align: top;\n",
       "    }\n",
       "\n",
       "    .dataframe thead th {\n",
       "        text-align: right;\n",
       "    }\n",
       "</style>\n",
       "<table border=\"1\" class=\"dataframe\">\n",
       "  <thead>\n",
       "    <tr style=\"text-align: right;\">\n",
       "      <th></th>\n",
       "      <th>variance of Wavelet</th>\n",
       "      <th>skewness of Wavelet</th>\n",
       "      <th>curtosis of Wavelet</th>\n",
       "      <th>entropy</th>\n",
       "      <th>class</th>\n",
       "    </tr>\n",
       "  </thead>\n",
       "  <tbody>\n",
       "    <tr>\n",
       "      <th>0</th>\n",
       "      <td>3.62160</td>\n",
       "      <td>8.6661</td>\n",
       "      <td>-2.8073</td>\n",
       "      <td>-0.44699</td>\n",
       "      <td>1.0</td>\n",
       "    </tr>\n",
       "    <tr>\n",
       "      <th>1</th>\n",
       "      <td>4.54590</td>\n",
       "      <td>8.1674</td>\n",
       "      <td>-2.4586</td>\n",
       "      <td>-1.46210</td>\n",
       "      <td>1.0</td>\n",
       "    </tr>\n",
       "    <tr>\n",
       "      <th>2</th>\n",
       "      <td>3.86600</td>\n",
       "      <td>-2.6383</td>\n",
       "      <td>1.9242</td>\n",
       "      <td>0.10645</td>\n",
       "      <td>1.0</td>\n",
       "    </tr>\n",
       "    <tr>\n",
       "      <th>3</th>\n",
       "      <td>3.45660</td>\n",
       "      <td>9.5228</td>\n",
       "      <td>-4.0112</td>\n",
       "      <td>-3.59440</td>\n",
       "      <td>1.0</td>\n",
       "    </tr>\n",
       "    <tr>\n",
       "      <th>4</th>\n",
       "      <td>0.32924</td>\n",
       "      <td>-4.4552</td>\n",
       "      <td>4.5718</td>\n",
       "      <td>-0.98880</td>\n",
       "      <td>1.0</td>\n",
       "    </tr>\n",
       "  </tbody>\n",
       "</table>\n",
       "</div>"
      ],
      "text/plain": [
       "   variance of Wavelet  skewness of Wavelet  curtosis of Wavelet  entropy  \\\n",
       "0              3.62160               8.6661              -2.8073 -0.44699   \n",
       "1              4.54590               8.1674              -2.4586 -1.46210   \n",
       "2              3.86600              -2.6383               1.9242  0.10645   \n",
       "3              3.45660               9.5228              -4.0112 -3.59440   \n",
       "4              0.32924              -4.4552               4.5718 -0.98880   \n",
       "\n",
       "   class  \n",
       "0    1.0  \n",
       "1    1.0  \n",
       "2    1.0  \n",
       "3    1.0  \n",
       "4    1.0  "
      ]
     },
     "execution_count": 11,
     "metadata": {},
     "output_type": "execute_result"
    }
   ],
   "source": [
    "data.head()"
   ]
  },
  {
   "cell_type": "code",
   "execution_count": 12,
   "id": "0017c996",
   "metadata": {},
   "outputs": [
    {
     "name": "stdout",
     "output_type": "stream",
     "text": [
      "['variance of Wavelet', 'skewness of Wavelet', 'curtosis of Wavelet', 'entropy']\n",
      "class\n"
     ]
    }
   ],
   "source": [
    "Feature_names=list(data.columns[:-1])\n",
    "print(Feature_names)\n",
    "Target=data.columns[-1]\n",
    "print(Target)"
   ]
  },
  {
   "cell_type": "code",
   "execution_count": 13,
   "id": "943b20d4",
   "metadata": {},
   "outputs": [],
   "source": [
    "X=data[Feature_names]\n",
    "y=data[Target]"
   ]
  },
  {
   "cell_type": "markdown",
   "id": "f1ac2a90",
   "metadata": {},
   "source": [
    "### if we dived the whole dataset into train set (bootstrap)and test set(all instances out of bag)"
   ]
  },
  {
   "cell_type": "code",
   "execution_count": 14,
   "id": "1056900a",
   "metadata": {},
   "outputs": [],
   "source": [
    "\n",
    "\n",
    "boot = resample(data, replace=True, n_samples=len(data)//5*4)\n",
    "\n",
    "oob=pd.DataFrame(columns=data.columns)\n",
    "a=np.zeros(len(data))\n",
    "for i in list(boot.index):\n",
    "    a[i]=1\n",
    "for i in range(len(data)):\n",
    "    if a[i]==0:\n",
    "        oob.loc[i]=list(data.loc[i].values)\n",
    "        \n",
    "\n",
    "X_train = boot[Feature_names]\n",
    "y_train = boot[Target]\n",
    "\n",
    "X_test = oob[Feature_names]\n",
    "y_test = oob[Target]"
   ]
  },
  {
   "cell_type": "code",
   "execution_count": 15,
   "id": "9185a2aa",
   "metadata": {},
   "outputs": [
    {
     "name": "stdout",
     "output_type": "stream",
     "text": [
      "DecisionTreeClassifier(max_depth=4)\n",
      "              precision    recall  f1-score   support\n",
      "\n",
      "         1.0       0.97      0.94      0.96       355\n",
      "         2.0       0.92      0.96      0.94       249\n",
      "\n",
      "    accuracy                           0.95       604\n",
      "   macro avg       0.95      0.95      0.95       604\n",
      "weighted avg       0.95      0.95      0.95       604\n",
      "\n",
      "[[334  21]\n",
      " [ 10 239]]\n",
      "Accuracy of the model on Testing Sample Data: 0.95\n"
     ]
    }
   ],
   "source": [
    "from sklearn import tree\n",
    "clf = tree.DecisionTreeClassifier(max_depth=4,criterion='gini')\n",
    "\n",
    "print(clf)\n",
    "\n",
    "DTree=clf.fit(X_train,y_train)\n",
    "prediction=DTree.predict(X_test)\n",
    "\n",
    "from sklearn import metrics\n",
    "print(metrics.classification_report(y_test, prediction))\n",
    "print(metrics.confusion_matrix(y_test, prediction))\n",
    "\n",
    "F1_Score=metrics.f1_score(y_test, prediction, average='weighted')\n",
    "print('Accuracy of the model on Testing Sample Data:', round(F1_Score,2))\n",
    "\n",
    "\n"
   ]
  },
  {
   "cell_type": "code",
   "execution_count": null,
   "id": "73541610",
   "metadata": {},
   "outputs": [],
   "source": []
  },
  {
   "cell_type": "code",
   "execution_count": 16,
   "id": "a1f98640",
   "metadata": {},
   "outputs": [
    {
     "name": "stdout",
     "output_type": "stream",
     "text": [
      "Final accuracy: 0.9504479805215863\n"
     ]
    }
   ],
   "source": [
    "ERR=0\n",
    "TIMES =10\n",
    "for i in range(TIMES):\n",
    "\n",
    "    boot = resample(data, replace=True, n_samples=len(data)//5*4)\n",
    "\n",
    "    oob=pd.DataFrame(columns=data.columns)\n",
    "    a=np.zeros(len(data))\n",
    "    for i in list(boot.index):\n",
    "        a[i]=1\n",
    "    for i in range(len(data)):\n",
    "        if a[i]==0:\n",
    "            oob.loc[i]=list(data.loc[i].values)\n",
    "\n",
    "\n",
    "    X_train = boot[Feature_names]\n",
    "    y_train = boot[Target]\n",
    "\n",
    "    X_test = oob[Feature_names]\n",
    "    y_test = oob[Target]\n",
    "    clf = tree.DecisionTreeClassifier(max_depth=4,criterion='gini')\n",
    "\n",
    "\n",
    "    DTree=clf.fit(X_train,y_train)\n",
    "    prediction=DTree.predict(X_test)\n",
    "    \n",
    "    err=0\n",
    "    for i in prediction!=y_test:\n",
    "        if i:\n",
    "            err+=1\n",
    "    err=err/len(y_test)\n",
    "    ERR+=err\n",
    "ERR/=TIMES\n",
    "    \n",
    "print(\"Final accuracy:\",1-ERR)\n"
   ]
  },
  {
   "cell_type": "markdown",
   "id": "3c05f55a",
   "metadata": {},
   "source": [
    "## remark: it works, but is not very practic, when the dataset is big, because we need to find all instances out of bags to form the test est, it costs much time"
   ]
  },
  {
   "cell_type": "code",
   "execution_count": null,
   "id": "8ee85ba6",
   "metadata": {},
   "outputs": [],
   "source": []
  },
  {
   "cell_type": "markdown",
   "id": "c2c6ba34",
   "metadata": {},
   "source": [
    "## If we divide the dataset into train set and test set at the begining, and then use bootstrap to the trainset"
   ]
  },
  {
   "cell_type": "code",
   "execution_count": 135,
   "id": "bcacf2e2",
   "metadata": {},
   "outputs": [],
   "source": [
    "from sklearn.model_selection import train_test_split\n",
    "data_train, data_test = train_test_split(data, test_size=0.2, random_state=428)\n"
   ]
  },
  {
   "cell_type": "code",
   "execution_count": 136,
   "id": "d564c212",
   "metadata": {},
   "outputs": [],
   "source": [
    "boot = resample(data_train ,replace=True, n_samples=len(data_train)//5*4)"
   ]
  },
  {
   "cell_type": "code",
   "execution_count": 145,
   "id": "19a88c64",
   "metadata": {},
   "outputs": [],
   "source": [
    "X_train = boot[Feature_names]\n",
    "y_train = boot[Target]\n",
    "\n",
    "X_test = data_test[Feature_names]\n",
    "y_test = data_test[Target]"
   ]
  },
  {
   "cell_type": "code",
   "execution_count": 146,
   "id": "8023e977",
   "metadata": {},
   "outputs": [
    {
     "name": "stdout",
     "output_type": "stream",
     "text": [
      "DecisionTreeClassifier(max_depth=4)\n",
      "              precision    recall  f1-score   support\n",
      "\n",
      "         1.0       0.91      0.98      0.95       150\n",
      "         2.0       0.97      0.89      0.93       125\n",
      "\n",
      "    accuracy                           0.94       275\n",
      "   macro avg       0.94      0.93      0.94       275\n",
      "weighted avg       0.94      0.94      0.94       275\n",
      "\n",
      "[[147   3]\n",
      " [ 14 111]]\n",
      "Accuracy of the model on Testing Sample Data: 0.94\n"
     ]
    }
   ],
   "source": [
    "clf = tree.DecisionTreeClassifier(max_depth=4,criterion='gini')\n",
    "\n",
    "print(clf)\n",
    "\n",
    "DTree=clf.fit(X_train,y_train)\n",
    "prediction=DTree.predict(X_test)\n",
    "\n",
    "from sklearn import metrics\n",
    "print(metrics.classification_report(y_test, prediction))\n",
    "print(metrics.confusion_matrix(y_test, prediction))\n",
    "\n",
    "F1_Score=metrics.f1_score(y_test, prediction, average='weighted')\n",
    "print('Accuracy of the model on Testing Sample Data:', round(F1_Score,2))\n"
   ]
  },
  {
   "cell_type": "code",
   "execution_count": 147,
   "id": "9ab566ed",
   "metadata": {},
   "outputs": [
    {
     "name": "stdout",
     "output_type": "stream",
     "text": [
      "Final accuracy: 0.9472727272727273\n"
     ]
    }
   ],
   "source": [
    "ERR=0\n",
    "TIMES =10\n",
    "for i in range(TIMES):\n",
    "\n",
    "    boot = resample(data_train, replace=True, n_samples=len(data_train)//10*9)\n",
    "\n",
    "    X_train = boot[Feature_names]\n",
    "    y_train = boot[Target]\n",
    "    clf = tree.DecisionTreeClassifier(max_depth=4,criterion='gini')\n",
    "\n",
    "\n",
    "    DTree=clf.fit(X_train,y_train)\n",
    "    prediction=DTree.predict(X_test)\n",
    "    \n",
    "    err=0\n",
    "    for i in prediction!=y_test:\n",
    "        if i:\n",
    "            err+=1\n",
    "    err=err/len(y_test)\n",
    "    ERR+=err\n",
    "ERR/=TIMES\n",
    "    \n",
    "print(\"Final accuracy:\",1-ERR)\n"
   ]
  },
  {
   "cell_type": "markdown",
   "id": "36f0fbb9",
   "metadata": {},
   "source": [
    "## if we use the average prediction of bootstrap to be the final prediction (Bagging)"
   ]
  },
  {
   "cell_type": "code",
   "execution_count": 152,
   "id": "1c40278d",
   "metadata": {},
   "outputs": [
    {
     "name": "stdout",
     "output_type": "stream",
     "text": [
      "              precision    recall  f1-score   support\n",
      "\n",
      "         1.0       0.99      0.99      0.99       150\n",
      "         2.0       0.98      0.98      0.98       125\n",
      "\n",
      "    accuracy                           0.99       275\n",
      "   macro avg       0.99      0.99      0.99       275\n",
      "weighted avg       0.99      0.99      0.99       275\n",
      "\n",
      "[[148   2]\n",
      " [  2 123]]\n",
      "Accuracy of the model on Testing Sample Data: 0.96\n"
     ]
    }
   ],
   "source": [
    "TIMES =20\n",
    "Prediction= np.zeros(len(y_test))\n",
    "\n",
    "for i in range(TIMES):\n",
    "\n",
    "    boot = resample(data, replace=True, n_samples=len(data)//4)\n",
    "\n",
    "    X_train = boot[Feature_names]\n",
    "    y_train = boot[Target]\n",
    "\n",
    "    clf = tree.DecisionTreeClassifier(max_depth=4,criterion='gini')\n",
    "\n",
    "    DTree=clf.fit(X_train,y_train)\n",
    "    prediction=DTree.predict(X_test)\n",
    "    Prediction+=prediction\n",
    "\n",
    "Prediction/=TIMES\n",
    "for i in range(len(Prediction)):\n",
    "    if Prediction[i]>1.5:\n",
    "        Prediction[i]=2\n",
    "    else:\n",
    "        Prediction[i]=1\n",
    "        \n",
    "\n",
    "        \n",
    "print(metrics.classification_report(y_test, Prediction))\n",
    "print(metrics.confusion_matrix(y_test, Prediction))\n",
    "\n",
    "F1_Score=metrics.f1_score(y_test, prediction, average='weighted')\n",
    "print('Accuracy of the model on Testing Sample Data:', round(F1_Score,2))\n",
    "\n"
   ]
  },
  {
   "cell_type": "code",
   "execution_count": null,
   "id": "32412aef",
   "metadata": {},
   "outputs": [],
   "source": []
  },
  {
   "cell_type": "markdown",
   "id": "c7e9851c",
   "metadata": {},
   "source": [
    "## Remark\n",
    "\n",
    "## A lot of methods of machine leaning has already used the bootstrap in the process of training, Bootstrap Aggregation (Bagging) .\n",
    "\n",
    "## random forest, xgboosyt use Bagging"
   ]
  },
  {
   "cell_type": "code",
   "execution_count": null,
   "id": "1d73d464",
   "metadata": {},
   "outputs": [],
   "source": []
  },
  {
   "cell_type": "code",
   "execution_count": null,
   "id": "31764602",
   "metadata": {},
   "outputs": [],
   "source": []
  },
  {
   "cell_type": "code",
   "execution_count": null,
   "id": "617c893d",
   "metadata": {},
   "outputs": [],
   "source": []
  },
  {
   "cell_type": "markdown",
   "id": "f2e3965f",
   "metadata": {},
   "source": [
    "# Other resample methods in machine learning\n",
    "# Cross validation "
   ]
  },
  {
   "cell_type": "code",
   "execution_count": 125,
   "id": "e8743beb",
   "metadata": {},
   "outputs": [],
   "source": [
    "data_train, data_test = train_test_split(data, test_size=0.2, random_state=428)\n",
    "X_train = data_train[Feature_names]\n",
    "y_train = data_train[Target]\n",
    "\n",
    "X_test = data_test[Feature_names]\n",
    "y_test = data_test[Target]"
   ]
  },
  {
   "cell_type": "code",
   "execution_count": 126,
   "id": "ff7e32e5",
   "metadata": {},
   "outputs": [
    {
     "name": "stdout",
     "output_type": "stream",
     "text": [
      "DecisionTreeClassifier(max_depth=4)\n",
      "              precision    recall  f1-score   support\n",
      "\n",
      "         1.0       0.95      0.98      0.96       150\n",
      "         2.0       0.97      0.94      0.96       125\n",
      "\n",
      "    accuracy                           0.96       275\n",
      "   macro avg       0.96      0.96      0.96       275\n",
      "weighted avg       0.96      0.96      0.96       275\n",
      "\n",
      "[[147   3]\n",
      " [  8 117]]\n",
      "Accuracy of the model on Testing Sample Data: 0.96\n",
      "\n",
      "Accuracy values for 10-fold Cross Validation:\n",
      " [0.95652174 0.96387342 0.91947296 0.9562656  0.95620438 0.91947296\n",
      " 0.96357419 0.98540146 0.96357419 0.93411424]\n",
      "\n",
      "Final Average Accuracy of the model: 0.95\n"
     ]
    }
   ],
   "source": [
    "clf = tree.DecisionTreeClassifier(max_depth=4,criterion='gini')\n",
    "\n",
    "print(clf)\n",
    "\n",
    "DTree=clf.fit(X_train,y_train)\n",
    "prediction=DTree.predict(X_test)\n",
    "\n",
    "from sklearn import metrics\n",
    "print(metrics.classification_report(y_test, prediction))\n",
    "print(metrics.confusion_matrix(y_test, prediction))\n",
    "\n",
    "F1_Score=metrics.f1_score(y_test, prediction, average='weighted')\n",
    "print('Accuracy of the model on Testing Sample Data:', round(F1_Score,2))\n",
    "\n",
    "from sklearn.model_selection import cross_val_score\n",
    "\n",
    "# Running 10-Fold Cross validation on a given algorithm\n",
    "# Passing full data X and y because the K-fold will split the data and automatically choose train/test\n",
    "Accuracy_Values=cross_val_score(DTree, X , y, cv=10, scoring='f1_weighted')\n",
    "print('\\nAccuracy values for 10-fold Cross Validation:\\n',Accuracy_Values)\n",
    "print('\\nFinal Average Accuracy of the model:', round(Accuracy_Values.mean(),2))"
   ]
  },
  {
   "cell_type": "code",
   "execution_count": null,
   "id": "2f8e0138",
   "metadata": {},
   "outputs": [],
   "source": []
  }
 ],
 "metadata": {
  "kernelspec": {
   "display_name": "Python 3 (ipykernel)",
   "language": "python",
   "name": "python3"
  },
  "language_info": {
   "codemirror_mode": {
    "name": "ipython",
    "version": 3
   },
   "file_extension": ".py",
   "mimetype": "text/x-python",
   "name": "python",
   "nbconvert_exporter": "python",
   "pygments_lexer": "ipython3",
   "version": "3.8.10"
  }
 },
 "nbformat": 4,
 "nbformat_minor": 5
}
